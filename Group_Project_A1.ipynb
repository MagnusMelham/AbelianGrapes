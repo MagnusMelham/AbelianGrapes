{
 "cells": [
  {
   "cell_type": "markdown",
   "id": "160a7ef0-ed70-4d53-83a4-c8911ce74ec5",
   "metadata": {},
   "source": [
    "\\tilde{x}\n"
   ]
  }
 ],
 "metadata": {
  "kernelspec": {
   "display_name": "Python 3 (ipykernel)",
   "language": "python",
   "name": "python3"
  },
  "language_info": {
   "codemirror_mode": {
    "name": "ipython",
    "version": 3
   },
   "file_extension": ".py",
   "mimetype": "text/x-python",
   "name": "python",
   "nbconvert_exporter": "python",
   "pygments_lexer": "ipython3",
   "version": "3.12.4"
  }
 },
 "nbformat": 4,
 "nbformat_minor": 5
}
